{
 "cells": [
  {
   "cell_type": "markdown",
   "metadata": {},
   "source": [
    "# Data Cleaning and Processing\n",
    "\n",
    "This notebook processes and cleans the two raw data files from 2015 and 2016."
   ]
  },
  {
   "cell_type": "code",
   "execution_count": 1,
   "metadata": {},
   "outputs": [],
   "source": [
    "import pandas as pd\n",
    "import numpy as np\n",
    "from geopy.geocoders import Nominatim"
   ]
  },
  {
   "cell_type": "markdown",
   "metadata": {},
   "source": [
    "## Read Data"
   ]
  },
  {
   "cell_type": "code",
   "execution_count": 2,
   "metadata": {},
   "outputs": [],
   "source": [
    "counted_2015 = pd.read_csv('../data/raw/the-counted-2015.csv')\n",
    "counted_2016 = pd.read_csv('../data/raw/the-counted-2016.csv')\n",
    "\n",
    "# Combine data into one dataframe\n",
    "counted = pd.concat([counted_2015, counted_2016], ignore_index=True)"
   ]
  },
  {
   "cell_type": "markdown",
   "metadata": {},
   "source": [
    "## Data Cleaning\n",
    "\n",
    "Below corrects the typos in the `age` and `city` columns."
   ]
  },
  {
   "cell_type": "code",
   "execution_count": 3,
   "metadata": {},
   "outputs": [],
   "source": [
    "# Data cleaning\n",
    "counted['age'] = pd.to_numeric(counted['age'].replace('40s', 40), errors='coerce')\n",
    "counted['city'] = counted['city'].str.replace('Peltzer', 'Pelzer')\n",
    "counted['city'] = counted['city'].str.replace('Rudioso', 'Ruidoso')\n",
    "counted['city'] = counted['city'].str.replace('Constantania', 'Constantia')\n",
    "counted['city'] = counted['city'].str.replace('Sildell', 'Slidell')\n",
    "counted['city'] = counted['city'].str.replace('Rossvile', 'Rossville')\n",
    "counted['city'] = counted['city'].str.replace('Wasau', 'Wausau')"
   ]
  },
  {
   "cell_type": "markdown",
   "metadata": {},
   "source": [
    "This maps all the states abbreviation to their corresponding full names."
   ]
  },
  {
   "cell_type": "code",
   "execution_count": 4,
   "metadata": {},
   "outputs": [],
   "source": [
    "state_dict = {\n",
    "        'AK': 'Alaska',\n",
    "        'AL': 'Alabama',\n",
    "        'AR': 'Arkansas',\n",
    "        'AS': 'American Samoa',\n",
    "        'AZ': 'Arizona',\n",
    "        'CA': 'California',\n",
    "        'CO': 'Colorado',\n",
    "        'CT': 'Connecticut',\n",
    "        'DC': 'District of Columbia',\n",
    "        'DE': 'Delaware',\n",
    "        'FL': 'Florida',\n",
    "        'GA': 'Georgia',\n",
    "        'GU': 'Guam',\n",
    "        'HI': 'Hawaii',\n",
    "        'IA': 'Iowa',\n",
    "        'ID': 'Idaho',\n",
    "        'IL': 'Illinois',\n",
    "        'IN': 'Indiana',\n",
    "        'KS': 'Kansas',\n",
    "        'KY': 'Kentucky',\n",
    "        'LA': 'Louisiana',\n",
    "        'MA': 'Massachusetts',\n",
    "        'MD': 'Maryland',\n",
    "        'ME': 'Maine',\n",
    "        'MI': 'Michigan',\n",
    "        'MN': 'Minnesota',\n",
    "        'MO': 'Missouri',\n",
    "        'MP': 'Northern Mariana Islands',\n",
    "        'MS': 'Mississippi',\n",
    "        'MT': 'Montana',\n",
    "        'NA': 'National',\n",
    "        'NC': 'North Carolina',\n",
    "        'ND': 'North Dakota',\n",
    "        'NE': 'Nebraska',\n",
    "        'NH': 'New Hampshire',\n",
    "        'NJ': 'New Jersey',\n",
    "        'NM': 'New Mexico',\n",
    "        'NV': 'Nevada',\n",
    "        'NY': 'New York',\n",
    "        'OH': 'Ohio',\n",
    "        'OK': 'Oklahoma',\n",
    "        'OR': 'Oregon',\n",
    "        'PA': 'Pennsylvania',\n",
    "        'PR': 'Puerto Rico',\n",
    "        'RI': 'Rhode Island',\n",
    "        'SC': 'South Carolina',\n",
    "        'SD': 'South Dakota',\n",
    "        'TN': 'Tennessee',\n",
    "        'TX': 'Texas',\n",
    "        'UT': 'Utah',\n",
    "        'VA': 'Virginia',\n",
    "        'VI': 'Virgin Islands',\n",
    "        'VT': 'Vermont',\n",
    "        'WA': 'Washington',\n",
    "        'WI': 'Wisconsin',\n",
    "        'WV': 'West Virginia',\n",
    "        'WY': 'Wyoming'\n",
    "}\n",
    "counted['state'] = counted['state'].map(state_dict)"
   ]
  },
  {
   "cell_type": "markdown",
   "metadata": {},
   "source": [
    "## Data Engineering\n",
    "\n",
    "Below performs three data engineerings:\n",
    "- geocode address to latitude and longitude\n",
    "- combine age into age groups\n",
    "- combine month, day, year into one date"
   ]
  },
  {
   "cell_type": "markdown",
   "metadata": {},
   "source": [
    "### Geocode location"
   ]
  },
  {
   "cell_type": "code",
   "execution_count": null,
   "metadata": {},
   "outputs": [],
   "source": [
    "address = counted[['streetaddress', 'city', 'state']].apply(\n",
    "    lambda x: ', '.join(x.dropna()), axis = 1\n",
    ")\n",
    "longitude, latitude = [], []\n",
    "\n",
    "# Use geopy to geocode addresses \n",
    "# This takes a very long time to run\n",
    "loc = Nominatim(user_agent=\"Geopy Library\")\n",
    "for ad in address:\n",
    "    getLoc = loc.geocode(ad, timeout=None)\n",
    "    if getLoc is None:\n",
    "        ad = ', '.join(ad.split(', ')[1:])\n",
    "        getLoc = loc.geocode(ad, timeout=None)\n",
    "    longitude.append(getLoc.longitude)\n",
    "    latitude.append(getLoc.latitude)\n",
    "\n",
    "counted['latitude'] = latitude\n",
    "counted['longitude'] = longitude"
   ]
  },
  {
   "cell_type": "markdown",
   "metadata": {},
   "source": [
    "### Engineer age groups"
   ]
  },
  {
   "cell_type": "code",
   "execution_count": 10,
   "metadata": {},
   "outputs": [],
   "source": [
    "# Engineer age group\n",
    "counted.loc[counted['age']<=19, 'age_group'] = 'Under 19'\n",
    "counted.loc[counted['age'].between(20,39), 'age_group'] = '20-39'\n",
    "counted.loc[counted['age'].between(40,59), 'age_group'] = '40-59'\n",
    "counted.loc[counted['age']>=60, 'age_group'] = 'Above 60'\n",
    "counted.loc[counted['age'].isna(), 'age_group'] = np.nan"
   ]
  },
  {
   "cell_type": "markdown",
   "metadata": {},
   "source": [
    "### Engineer datetime"
   ]
  },
  {
   "cell_type": "code",
   "execution_count": 11,
   "metadata": {},
   "outputs": [],
   "source": [
    "# Engineer datetime\n",
    "counted['date'] = pd.to_datetime(counted[['day', 'month', 'year']].astype(str).agg('-'.join, axis=1), format='%d-%B-%Y')"
   ]
  },
  {
   "cell_type": "markdown",
   "metadata": {},
   "source": [
    "### Impute Unknwon race/ethnicit and armed to Other"
   ]
  },
  {
   "cell_type": "code",
   "execution_count": 17,
   "metadata": {},
   "outputs": [],
   "source": [
    "counted.loc[counted['raceethnicity'] == 'Unknown', 'raceethnicity'] = 'Other'\n",
    "counted.loc[counted['armed'] == 'Unknown', 'armed'] = 'Other'"
   ]
  },
  {
   "cell_type": "markdown",
   "metadata": {},
   "source": [
    "## Rearrange and Drop Columns for Tidier Outputs"
   ]
  },
  {
   "cell_type": "code",
   "execution_count": 18,
   "metadata": {},
   "outputs": [
    {
     "data": {
      "text/html": [
       "<div>\n",
       "<style scoped>\n",
       "    .dataframe tbody tr th:only-of-type {\n",
       "        vertical-align: middle;\n",
       "    }\n",
       "\n",
       "    .dataframe tbody tr th {\n",
       "        vertical-align: top;\n",
       "    }\n",
       "\n",
       "    .dataframe thead th {\n",
       "        text-align: right;\n",
       "    }\n",
       "</style>\n",
       "<table border=\"1\" class=\"dataframe\">\n",
       "  <thead>\n",
       "    <tr style=\"text-align: right;\">\n",
       "      <th></th>\n",
       "      <th>age</th>\n",
       "      <th>age_group</th>\n",
       "      <th>gender</th>\n",
       "      <th>raceethnicity</th>\n",
       "      <th>month</th>\n",
       "      <th>day</th>\n",
       "      <th>year</th>\n",
       "      <th>date</th>\n",
       "      <th>city</th>\n",
       "      <th>state</th>\n",
       "      <th>latitude</th>\n",
       "      <th>longitude</th>\n",
       "      <th>classification</th>\n",
       "      <th>armed</th>\n",
       "    </tr>\n",
       "  </thead>\n",
       "  <tbody>\n",
       "    <tr>\n",
       "      <th>0</th>\n",
       "      <td>22.0</td>\n",
       "      <td>20-39</td>\n",
       "      <td>Male</td>\n",
       "      <td>Black</td>\n",
       "      <td>January</td>\n",
       "      <td>1</td>\n",
       "      <td>2015</td>\n",
       "      <td>2015-01-01</td>\n",
       "      <td>Savannah</td>\n",
       "      <td>Georgia</td>\n",
       "      <td>32.066828</td>\n",
       "      <td>-81.166272</td>\n",
       "      <td>Death in custody</td>\n",
       "      <td>No</td>\n",
       "    </tr>\n",
       "    <tr>\n",
       "      <th>1</th>\n",
       "      <td>47.0</td>\n",
       "      <td>40-59</td>\n",
       "      <td>Male</td>\n",
       "      <td>White</td>\n",
       "      <td>January</td>\n",
       "      <td>2</td>\n",
       "      <td>2015</td>\n",
       "      <td>2015-01-02</td>\n",
       "      <td>Aloha</td>\n",
       "      <td>Oregon</td>\n",
       "      <td>45.487341</td>\n",
       "      <td>-122.892073</td>\n",
       "      <td>Gunshot</td>\n",
       "      <td>Firearm</td>\n",
       "    </tr>\n",
       "    <tr>\n",
       "      <th>2</th>\n",
       "      <td>19.0</td>\n",
       "      <td>Under 19</td>\n",
       "      <td>Male</td>\n",
       "      <td>White</td>\n",
       "      <td>January</td>\n",
       "      <td>3</td>\n",
       "      <td>2015</td>\n",
       "      <td>2015-01-03</td>\n",
       "      <td>Kaumakani</td>\n",
       "      <td>Hawaii</td>\n",
       "      <td>21.918289</td>\n",
       "      <td>-159.620750</td>\n",
       "      <td>Struck by vehicle</td>\n",
       "      <td>No</td>\n",
       "    </tr>\n",
       "    <tr>\n",
       "      <th>3</th>\n",
       "      <td>23.0</td>\n",
       "      <td>20-39</td>\n",
       "      <td>Male</td>\n",
       "      <td>Hispanic/Latino</td>\n",
       "      <td>January</td>\n",
       "      <td>3</td>\n",
       "      <td>2015</td>\n",
       "      <td>2015-01-03</td>\n",
       "      <td>Wichita</td>\n",
       "      <td>Kansas</td>\n",
       "      <td>37.744441</td>\n",
       "      <td>-97.280718</td>\n",
       "      <td>Gunshot</td>\n",
       "      <td>No</td>\n",
       "    </tr>\n",
       "    <tr>\n",
       "      <th>4</th>\n",
       "      <td>53.0</td>\n",
       "      <td>40-59</td>\n",
       "      <td>Male</td>\n",
       "      <td>Asian/Pacific Islander</td>\n",
       "      <td>January</td>\n",
       "      <td>2</td>\n",
       "      <td>2015</td>\n",
       "      <td>2015-01-02</td>\n",
       "      <td>Shelton</td>\n",
       "      <td>Washington</td>\n",
       "      <td>47.245850</td>\n",
       "      <td>-123.120086</td>\n",
       "      <td>Gunshot</td>\n",
       "      <td>Firearm</td>\n",
       "    </tr>\n",
       "  </tbody>\n",
       "</table>\n",
       "</div>"
      ],
      "text/plain": [
       "    age age_group gender           raceethnicity    month  day  year  \\\n",
       "0  22.0     20-39   Male                   Black  January    1  2015   \n",
       "1  47.0     40-59   Male                   White  January    2  2015   \n",
       "2  19.0  Under 19   Male                   White  January    3  2015   \n",
       "3  23.0     20-39   Male         Hispanic/Latino  January    3  2015   \n",
       "4  53.0     40-59   Male  Asian/Pacific Islander  January    2  2015   \n",
       "\n",
       "        date       city       state   latitude   longitude     classification  \\\n",
       "0 2015-01-01   Savannah     Georgia  32.066828  -81.166272   Death in custody   \n",
       "1 2015-01-02      Aloha      Oregon  45.487341 -122.892073            Gunshot   \n",
       "2 2015-01-03  Kaumakani      Hawaii  21.918289 -159.620750  Struck by vehicle   \n",
       "3 2015-01-03    Wichita      Kansas  37.744441  -97.280718            Gunshot   \n",
       "4 2015-01-02    Shelton  Washington  47.245850 -123.120086            Gunshot   \n",
       "\n",
       "     armed  \n",
       "0       No  \n",
       "1  Firearm  \n",
       "2       No  \n",
       "3       No  \n",
       "4  Firearm  "
      ]
     },
     "execution_count": 18,
     "metadata": {},
     "output_type": "execute_result"
    }
   ],
   "source": [
    "cols = ['age', 'age_group', 'gender', 'raceethnicity', 'month', 'day', 'year', 'date', 'city', 'state', 'latitude', 'longitude', 'classification', 'armed']\n",
    "counted = counted[cols]\n",
    "counted.head()"
   ]
  },
  {
   "cell_type": "markdown",
   "metadata": {},
   "source": [
    "## Output Clean Data\n",
    "\n",
    "This writes the clean data onto the `data/proc/clean_data.csv`."
   ]
  },
  {
   "cell_type": "code",
   "execution_count": 19,
   "metadata": {},
   "outputs": [],
   "source": [
    "counted.to_csv('../data/proc/clean_data.csv', index=False)  "
   ]
  }
 ],
 "metadata": {
  "kernelspec": {
   "display_name": "gp24",
   "language": "python",
   "name": "python3"
  },
  "language_info": {
   "codemirror_mode": {
    "name": "ipython",
    "version": 3
   },
   "file_extension": ".py",
   "mimetype": "text/x-python",
   "name": "python",
   "nbconvert_exporter": "python",
   "pygments_lexer": "ipython3",
   "version": "3.11.11"
  }
 },
 "nbformat": 4,
 "nbformat_minor": 2
}
